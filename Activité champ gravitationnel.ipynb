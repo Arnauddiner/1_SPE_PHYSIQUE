{
 "cells": [
  {
   "cell_type": "markdown",
   "metadata": {},
   "source": [
    "\n",
    "# <div class=\"alert alert-info\" role=\"alert\"> <center> Etude d'un pendule dans le champ de pesanteur Terrestre\n"
   ]
  },
  {
   "cell_type": "markdown",
   "metadata": {},
   "source": [
    "<div class=\"alert alert-danger\" role=\"alert\">\n",
    "Ce programme permet de tracer la courbe donnant la période du pendule au carré en fonction de la longueur L du pendule"
   ]
  },
  {
   "cell_type": "markdown",
   "metadata": {},
   "source": [
    "<div class=\"alert alert-success\" role=\"alert\">\n",
    "    \n",
    "&nbsp;\n",
    "1- Excécuter la cellule ci-dessous  \n",
    "\n",
    "&nbsp;\n",
    "2- Indiquer le nombre total de mesures éffectuées \n",
    "\n",
    "&nbsp;\n",
    "3- Indiquer la période T du pendule (en s) puis la longueur L du pendule (en m)\n",
    "\n",
    "&nbsp;\n",
    "4- Relever l'équation obtenue sur votre compte rendu</b> "
   ]
  },
  {
   "cell_type": "code",
   "execution_count": null,
   "metadata": {
    "scrolled": false
   },
   "outputs": [],
   "source": [
    "import numpy as np\n",
    "import matplotlib.pyplot as plt\n",
    "%matplotlib inline\n",
    "\n",
    "T=[]\n",
    "L=[]\n",
    "N = int(input('Entrer le nombre total de mesures éffectuées  '))\n",
    "\n",
    "for i in range(N):\n",
    "    T_i = np.float(input('Entrer la valeur de la période T en s '))\n",
    "    L_i = np.float(input('Entrer la valeur de la longueur du pendule en m ' ))\n",
    "    T.append(T_i**2)\n",
    "    L.append(L_i)\n",
    "    \n",
    "x = np.array(L)\n",
    "y = np.array(T)\n",
    "coef=np.polyfit(x,y,1)              \n",
    "k=coef[0]\n",
    "ymodel=k*x   \n",
    "\n",
    "fig = plt.figure(figsize=(15,10))\n",
    "plt.plot(x,y,'rs',label='A=f(C)')\n",
    "plt.plot(x,ymodel,'b',label='modèle linéaire')\n",
    "plt.legend()\n",
    "plt.xlabel(\"Longueur du pendule en mètre)\")\n",
    "plt.ylabel(\"Période du pendule au carré\")\n",
    "plt.grid()\n",
    "plt.title(\"T² = f(L)\")\n",
    "plt.show()\n",
    "print ('Equation du modèle : T²= ',np.round(k,2))"
   ]
  }
 ],
 "metadata": {
  "kernelspec": {
   "display_name": "Python 3",
   "language": "python",
   "name": "python3"
  },
  "language_info": {
   "codemirror_mode": {
    "name": "ipython",
    "version": 3
   },
   "file_extension": ".py",
   "mimetype": "text/x-python",
   "name": "python",
   "nbconvert_exporter": "python",
   "pygments_lexer": "ipython3",
   "version": "3.7.1"
  }
 },
 "nbformat": 4,
 "nbformat_minor": 4
}
