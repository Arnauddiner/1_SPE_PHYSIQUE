{
 "cells": [
  {
   "cell_type": "markdown",
   "metadata": {},
   "source": [
    "# <div class=\"alert alert-info\" role=\"alert\"> <center> SAUT A L'ELASTIQUE"
   ]
  },
  {
   "cell_type": "markdown",
   "metadata": {},
   "source": [
    "<div class=\"alert alert-success\" role=\"alert\">\n",
    "<center><b>Première phase de la chute</b>\n",
    "<div style=\"text-align:left;\"    \n",
    "&nbsp;\n",
    "     \n",
    "Dans la première phase de la chute, l’élastique n’est pas tendu et donc n’exerce pas de force de rappel.\n",
    "La personne qui saute n’est donc soumise qu’à son poids ; on néglige les forces de frottements : il s’agit donc d’un mouvement de chute libre. Dans toute l’activité, le système considéré sera la personne tenue par l’élastique ; elle sera modélisée par un point matériel de masse m = 100 kg.\n",
    "\n",
    "&nbsp;\n",
    "\n",
    "Pour faire apparaitre les numéros de ligne, cliquer sur <b> view </b> puis <b> Toggle Line Numbers.\n",
    "    \n",
    "&nbsp;\n",
    "<b> Travail à faire :</b> \n",
    "\n",
    "+ Exécuter le programme. Qu'obtient-on ?\n",
    "+ Compléter le programme ci-dessous de façon à obtenir les 3 courbes d'énergie sur le même graphique.\n",
    "+ Copier le graphique obtenu et le coller dans un document Word."
   ]
  },
  {
   "cell_type": "code",
   "execution_count": null,
   "metadata": {},
   "outputs": [],
   "source": [
    "# Importation de la librairie nécessaire pour les tracés\n",
    "from matplotlib.pyplot import* \n",
    "import ipywidgets as widgets\n",
    "%matplotlib widget\n",
    "# Définition des constantes g et m\n",
    "\n",
    "# Constante physique : g = 9.81 m/s²\n",
    "g=9.81\n",
    "\n",
    "# Paramètre : masse du sauteur en kg\n",
    "m=100\n",
    "\n",
    "# Création des listes vides\n",
    "\n",
    "h=[]      # liste pour stocker les valeurs des hauteurs de chute\n",
    "Epp=[]    # liste pour stocker les valeurs des énergies potentielles de pesanteur\n",
    "\n",
    "# Ajout itératif des valeurs de hauteurs de chute dans la liste h\n",
    "\n",
    "for i in range(0,31,1):   # les valeurs s'étendent de 0 m à 31 m exclu par pas de 1 m \n",
    "    h.append(i)            # ajout d'un élèment à la fin de la liste h\n",
    "\n",
    "# Calcul et ajout itératif des valeurs de l'énergie potentielle de pesanteur Epp(J) correspondantes aux hauteurs de chute\n",
    " \n",
    "for i in range(0,31,1):    # les valeurs s'étendent de 0 m à 31 m exclu par pas de 1 m \n",
    "    Epp.append(-m*g*h[i])  # ajout d'un élèment à la fin de la liste Epp\n",
    "    \n",
    " \n",
    "# Tracé de l'énergie potentielle de pesanteur et de l'énergie cinétique en fonction de la hauteur\n",
    "plot(h,Epp,label=\"Epp\")      # plot(abscisse,ordonnée,\"legende de la courbe\")\n",
    "xlabel(\"Hauteur de chute (m)\")       # xlabel(\"Nom de l'axe de l'axe des absicces\")\n",
    "ylabel(\"Energies (J)\")               # ylabel(\"Nom de l'axe des ordonnées\")\n",
    "legend(loc=\"lower left\")             # Position de la legende de la courbe dans le graphique\n",
    "grid(True)                           # Affiche la grille du graphique\n",
    "show(True)                           # Affiche le graphique\n"
   ]
  },
  {
   "attachments": {
    "image.png": {
     "image/png": "[encoded data removed]"
    }
   },
   "cell_type": "markdown",
   "metadata": {},
   "source": [
    "<div class=\"alert alert-success\" role=\"alert\">\n",
    "    <center><b>Deuxième phase de la chute : l’élastique se tend</b>\n",
    "<div style=\"text-align:left;\"    \n",
    "&nbsp;\n",
    "     \n",
    "Dans la seconde partie du mouvement, l’élastique est tendu, la hauteur de chute h est supérieure à la longueur à vide 𝑙0 de l’élastique et la hauteur maximale de chute est notée hmax. L’élastique exerce alors une force de rappel ; cette force conservative est liée à l’énergie potentielle élastique qui s'exprime sous la forme :\n",
    "\n",
    "![image.png](attachment:image.png)\n",
    "La personne qui saute est soumise à son poids et à la force de rappel car les frottements de l’air sont négligés. Donc l’énergie mécanique 𝐸𝑚 = 𝐸𝑝𝑝 + 𝐸𝑝𝑒 + 𝐸𝑐 se conserve ; elle est même nulle en considérant les conditions initiales du saut.  \n",
    "\n",
    "  \n",
    "&nbsp;\n",
    "<b> Travail à faire :</b> \n",
    "+ Compléter les parties * * * * * * * * * du programme ci-dessous qui a malencontreusement été effacée afin de prendre en compte la tension de l’élastique dans la seconde phase du saut.\n",
    "+ Copier le graphique obtenu et le coller dans un document Word."
   ]
  },
  {
   "cell_type": "code",
   "execution_count": null,
   "metadata": {},
   "outputs": [],
   "source": [
    "# Importation de la librairie nécessaire pour les tracés\n",
    "from matplotlib.pyplot import* \n",
    "import ipywidgets as widgets\n",
    "%matplotlib widget\n",
    "# Définition des constantes g et m\n",
    "# Constante physique : g = 9.81 m/s²\n",
    "g=9.81\n",
    "# Paramètre : masse du sauteur en kg\n",
    "m=100\n",
    "# Longueur de l'élastique à vide en m\n",
    "l0=************\n",
    "# consante de raideur de l'élastique en N/m\n",
    "k=**************\n",
    "\n",
    "# Création des listes vides\n",
    "h=[]      # liste pour stocker les valeurs des hauteurs de chute\n",
    "Epp=[]    # liste pour stocker les valeurs des énergies potentielles de pesanteur\n",
    "Ec=[]     # liste pour stocker les valeurs des énergies cinétiques\n",
    "Epe=[]    # liste pour stocker les valeurs des énergies potentielles élastiques\n",
    "Em=[]     # liste pour stocker les valeurs des énergies mécaniques\n",
    "z=[]\n",
    "# Ajout itératif des valeurs de hauteurs de chute dans la liste h\n",
    "for i in range(0,101,1):   # les valeurs s'étendent de 0 m à 100 m exclu par pas de 1 m \n",
    "    h.append(i)           # ajout d'un élèment à la fin de la liste h\n",
    "\n",
    "# Calcul et ajout itératif des valeurs de l'énergie potentielle de pesanteur Epp(J) correspondantes aux hauteurs de chute\n",
    "for i in range(0,101,1):     # les valeurs s'étendent de 0 m à 100 m exclu par pas de 1 m \n",
    "    Epp.append(-m*g*h[i])   # ajout d'un élèment à la fin de la liste Epp\n",
    "\n",
    "\n",
    "# Calcul et ajout itératif des valeurs de l'énergie cinétique Ec(J) et de l'énergie potentielle élastique Epe(J)\n",
    "\n",
    "for i in range(0,101,1):     # les valeurs s'étendent de 0 m à 100 m exclu par pas de 1 m \n",
    "   if h[i]<l0:               # Condition sur la hauteur de chute\n",
    "        \n",
    "        Epe.append(0)       # valeur de l'énergie potentielle élastique\n",
    "        Ec.append(m*g*h[i]) # Calcul de l'énergie cinétique\n",
    "        \n",
    "   else:\n",
    "        Epe.append(*********(h[i]-l0)**2)# Calcul de l'énergie potentielle élastique\n",
    "        Ec.append(m*g******-(0.5*k*(h[i]-l0)**2)) # Calcul de l'énergie cinétique\n",
    "    \n",
    "# Calcul et ajout itératif des valeurs de l'énergie mécanique Em(J) correspondantes aux hauteurs de chute\n",
    "\n",
    "# Tracé de l'énergie potentielle de pesanteur, élastique et de l'énergie cinétique en fonction de la hauteur\n",
    "\n",
    "plot(h,Epp,label=\"Epp\")     # plot(abscisse,ordonnée,\"legende de la courbe\")\n",
    "plot(h,Ec,label=\"Ec\")       # plot(abscisse,ordonnée,\"legende de la courbe\")\n",
    "plot(h,Epe,label=\"Epe\")      # plot(abscisse,ordonnée,\"legende de la courbe\")\n",
    "\n",
    "xlabel(\"Hauteur de chute (m)\")      # xlabel(\"Nom de l'axe de l'axe des absicces\")\n",
    "ylabel(\"Energies (J)\")              # ylabel(\"Nom de l'axe des ordonnées\")\n",
    "legend(loc=\"lower left\")            # Position de la legende de la courbe dans le graphique\n",
    "grid(True)                          # Affiche la grille du graphique\n",
    "show(True)                          # Affiche le graphique\n"
   ]
  },
  {
   "cell_type": "code",
   "execution_count": null,
   "metadata": {},
   "outputs": [],
   "source": []
  }
 ],
 "metadata": {
  "kernelspec": {
   "display_name": "Python 3",
   "language": "python",
   "name": "python3"
  },
  "language_info": {
   "codemirror_mode": {
    "name": "ipython",
    "version": 3
   },
   "file_extension": ".py",
   "mimetype": "text/x-python",
   "name": "python",
   "nbconvert_exporter": "python",
   "pygments_lexer": "ipython3",
   "version": "3.7.1"
  }
 },
 "nbformat": 4,
 "nbformat_minor": 2
}
