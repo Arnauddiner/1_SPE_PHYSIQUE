{
 "cells": [
  {
   "cell_type": "markdown",
   "metadata": {},
   "source": [
    "\n",
    "# <div class=\"alert alert-info\" role=\"alert\"> <center> La loi de BEER LAMBERT \n"
   ]
  },
  {
   "cell_type": "markdown",
   "metadata": {},
   "source": [
    "<div class=\"alert alert-danger\" role=\"alert\">\n",
    "Ce programme permet de tracer la courbe donnant l’absorbance A en fonction de la concentration puis de\n",
    "vérifier la loi de Beer-Lambert.   "
   ]
  },
  {
   "cell_type": "markdown",
   "metadata": {},
   "source": [
    "<div class=\"alert alert-success\" role=\"alert\">\n",
    "<center><b>1ère partie :\n",
    "    \n",
    "&nbsp;\n",
    "1- Excécuter la cellule ci-dessous  \n",
    "\n",
    "&nbsp;\n",
    "2- Indiquer le nombre total de mesures éffectuées sans oublier le point A = 0 pour C = 0 mol/L\n",
    "\n",
    "&nbsp;\n",
    "3- Indiquer la concentration C (en mol/L) puis l'absorbance correspondante\n",
    "\n",
    "&nbsp;\n",
    "4- Relever l'équation obtenue sur votre compte rendu</b> "
   ]
  },
  {
   "cell_type": "code",
   "execution_count": null,
   "metadata": {
    "scrolled": false
   },
   "outputs": [],
   "source": [
    "import numpy as np\n",
    "import matplotlib.pyplot as plt\n",
    "%matplotlib inline\n",
    "\n",
    "A=[]\n",
    "C=[]\n",
    "N = int(input('Entrer le nombre total de mesures éffectuées  '))\n",
    "\n",
    "for i in range(N):\n",
    "    C_i = np.float(input('Entrer la valeur de C en mol/L '))\n",
    "    A_i = np.float(input('Entrer la valeur de l absorbance' ))\n",
    "    A.append(A_i)\n",
    "    C.append(C_i)\n",
    "    \n",
    "x = np.array(C)\n",
    "y = np.array(A)\n",
    "coef=np.polyfit(x,y,1)              \n",
    "k=coef[0]\n",
    "ymodel=k*x   \n",
    "\n",
    "fig = plt.figure(figsize=(15,10))\n",
    "plt.plot(x,y,'rs',label='A=f(C)')\n",
    "plt.plot(x,ymodel,'b',label='modèle linéaire')\n",
    "plt.legend()\n",
    "plt.xlabel(\"Concentration molaire C (mol/L)\")\n",
    "plt.ylabel(\"Absorbance)\")\n",
    "plt.grid()\n",
    "plt.title(\"A = f(C)\")\n",
    "plt.show()\n",
    "print ('Equation du modèle : A= ',np.round(k,2),'x C avec C en mol/L')"
   ]
  },
  {
   "cell_type": "markdown",
   "metadata": {},
   "source": [
    "<div class=\"alert alert-success\" role=\"alert\">\n",
    "<center><b>2ème partie :\n",
    "    \n",
    "&nbsp;\n",
    "1- Excécuter la cellule ci-dessous  \n",
    "\n",
    "&nbsp;\n",
    "2- Indiquer l'absorbance de la solution inconnue\n",
    "\n",
    "&nbsp;\n",
    "3- Noter sur votre compte la concentration de la solution inconnue"
   ]
  },
  {
   "cell_type": "code",
   "execution_count": null,
   "metadata": {},
   "outputs": [],
   "source": [
    "Ap = np.float(input('Entrer la valeur de l absorbance de la solution inconnue :'))\n",
    "Am = np.array(Ap)\n",
    "#k = np.float(input('Entrer la valeur de la constante k de la loi de Beer Lambert :'))\n",
    "Cm = np.array(Am/k)\n",
    "\n",
    "plt.rcParams['figure.figsize'] = [10,6]\n",
    "plt.title(\"A = f(C)\")\n",
    "plt.xlabel('C ($mol\\cdot L^{-1}$)')\n",
    "plt.ylabel('A')\n",
    "plt.grid()\n",
    "plt.plot(x, ymodel, c='r')\n",
    "plt.plot(Cm,Am,'go')\n",
    "plt.plot([0,Cm],[Am,Am],'g--')\n",
    "plt.plot([Cm,Cm],[0,Am],'g--')\n",
    "plt.show()\n",
    "C = (np.round(Cm*1000,2))\n",
    "print('La concentration en soluté de la solution inconnue est C =',C,' mmol/L')"
   ]
  }
 ],
 "metadata": {
  "kernelspec": {
   "display_name": "Python 3",
   "language": "python",
   "name": "python3"
  },
  "language_info": {
   "codemirror_mode": {
    "name": "ipython",
    "version": 3
   },
   "file_extension": ".py",
   "mimetype": "text/x-python",
   "name": "python",
   "nbconvert_exporter": "python",
   "pygments_lexer": "ipython3",
   "version": "3.7.1"
  }
 },
 "nbformat": 4,
 "nbformat_minor": 4
}
