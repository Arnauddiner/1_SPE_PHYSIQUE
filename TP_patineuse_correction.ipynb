{
 "cells": [
  {
   "cell_type": "markdown",
   "metadata": {},
   "source": [
    "# <div class=\"alert alert-info\" role=\"alert\"> <center> Etude du mouvement d'une patineuse"
   ]
  },
  {
   "cell_type": "markdown",
   "metadata": {},
   "source": [
    "Pour faire fonctionner le programme , il faut exécuter toutes les cellules contenant du code dans l'ordre.\n",
    "\n",
    "On commence par importer les bibliothèques nécéssaires :\n",
    "+ matplotlib permet de tracer les graphiques\n",
    "+ csv permet de lire et d'importer les données du pointage stockées dans un fichier.csv"
   ]
  },
  {
   "cell_type": "code",
   "execution_count": 88,
   "metadata": {},
   "outputs": [],
   "source": [
    "%matplotlib inline\n",
    "from matplotlib.pyplot import*\n",
    "import csv"
   ]
  },
  {
   "cell_type": "markdown",
   "metadata": {},
   "source": [
    "On crée deux listes vides permettant de récupérer les corrdonnées x et y du point M au cours du mouvement. Elles sont remplies avec les données du fichier pointage.csv créé grace au pointage."
   ]
  },
  {
   "cell_type": "code",
   "execution_count": 89,
   "metadata": {},
   "outputs": [],
   "source": [
    "x=[]\n",
    "y=[]\n",
    "with open('pointage.csv','r') as fichier: \n",
    "    fichier.readline()\n",
    "    for ligne in fichier:\n",
    "        ligne_lue=ligne.split(';')\n",
    "        x.append(float(ligne_lue[1].replace(',','.'))) \n",
    "        y.append(float(ligne_lue[2].replace(',','.')))"
   ]
  },
  {
   "cell_type": "markdown",
   "metadata": {},
   "source": [
    "<div class=\"alert alert-success\" role=\"alert\">\n",
    "<center><b>1ère étape : Tracé du graphique\n",
    "    \n",
    "&nbsp;\n",
    "1- on donne l'intervalle de temps entre deux points ici 40 ms\n",
    "\n",
    "&nbsp;\n",
    "2- plot(x,y,'ro',ms=20.): tracé du graphique y en fonction de x. on précise le type et la taille du marqueur"
   ]
  },
  {
   "cell_type": "code",
   "execution_count": 93,
   "metadata": {},
   "outputs": [
    {
     "data": {
      "image/png": "[encoded data removed]",
      "text/plain": [
       "<Figure size 504x504 with 1 Axes>"
      ]
     },
     "metadata": {
      "needs_background": "light"
     },
     "output_type": "display_data"
    }
   ],
   "source": [
    "dt =0.04\n",
    "plot(x,y,'ro',ms=4.) \n",
    "axis('equal') #permet d'avoir la même échelle en abscisse et en ordonnée\n",
    "rcParams['figure.figsize'] = [8,8] # permet de changer l'échelle du grphique "
   ]
  },
  {
   "cell_type": "markdown",
   "metadata": {},
   "source": [
    "<div class=\"alert alert-success\" role=\"alert\"><center><b>2ème étape : Tracé du vecteur vitesse\n",
    "    \n",
    "&nbsp;\n",
    "<center><b>Création de la fonction \"vecteur_vitesse\" permettant de tracer un vecteur vitesse au point Mi et de calculer sa norme"
   ]
  },
  {
   "cell_type": "markdown",
   "metadata": {},
   "source": [
    "Consulter [l'aide Python](https://www.pearltrees.com/private/id37997892/item339310930?paccess=17ded226367.14397952.8fe009816771147d18cc0c94c7bb481a)pour comprendre comment a été construit le vecteur vitesse."
   ]
  },
  {
   "cell_type": "code",
   "execution_count": 101,
   "metadata": {},
   "outputs": [
    {
     "name": "stdout",
     "output_type": "stream",
     "text": [
      "A la position 3  la vitesse est de 0.72 m/s\n"
     ]
    },
    {
     "data": {
      "image/png": "[encoded data removed]",
      "text/plain": [
       "<Figure size 576x576 with 1 Axes>"
      ]
     },
     "metadata": {
      "needs_background": "light"
     },
     "output_type": "display_data"
    }
   ],
   "source": [
    "def vecteur_vitesse(x, y, dt, i) :\n",
    "    vx = (x[i+1] - x[i-1]) / (2*dt) # coordonnée Vx du vecteur vitesse au point Mi\n",
    "    vy = (y[i+1] - y[i-1]) / (2*dt) # coordonnée Vy du vecteur vitesse au point Mi\n",
    "    quiver(x[i], y[i], vx, vy, scale_units='xy',angles='xy',color='blue',scale=7)   \n",
    "    vitesse = sqrt(((x[i+1]-x[i])/(dt))**2 +((y[i+1]-y[i])/(dt))**2) # Calcul de la vitesse au point i\n",
    "    print(\"A la position\",i, \" la vitesse est de\",round(vitesse,2), \"m/s\")\n",
    "\n",
    "plot(x,y,'ro',ms=4.) \n",
    "axis('equal')\n",
    "rcParams['figure.figsize'] = [8,8]\n",
    "\n",
    "vecteur_vitesse(x, y, dt,3) #tracé du vecteur vitesse au point M3"
   ]
  },
  {
   "cell_type": "markdown",
   "metadata": {},
   "source": [
    "<div class=\"alert alert-success\" role=\"alert\"><center><b>3ème étape : Tracé du vecteur variation de vitesse\n",
    "<center><b>Création de la fonction \"deltav\" permettant de tracer un vecteur variation de vitesse au point Mi et de calculer sa norme"
   ]
  },
  {
   "cell_type": "markdown",
   "metadata": {},
   "source": [
    "Attention, pour visualiser plus facilement le vecteur variation de vitesse, il a une échelle différente de celle des vecteurs vitesses.\n",
    "\n",
    "&nbsp;\n",
    "Ligne 4, il faut mettre scale =7 pour obtenir la même échelle de représentation."
   ]
  },
  {
   "cell_type": "code",
   "execution_count": 107,
   "metadata": {},
   "outputs": [
    {
     "name": "stdout",
     "output_type": "stream",
     "text": [
      "A la position 3  la vitesse est de 0.72 m/s\n",
      "A la position 5  la vitesse est de 0.72 m/s\n",
      "A la position 4  la variation de la vitesse est de 0.18 m/s\n"
     ]
    },
    {
     "data": {
      "image/png": "[encoded data removed]",
      "text/plain": [
       "<Figure size 504x504 with 1 Axes>"
      ]
     },
     "metadata": {
      "needs_background": "light"
     },
     "output_type": "display_data"
    }
   ],
   "source": [
    "def deltav(vx,vy,dt,i) :\n",
    "    dvx = (vx[i+1] - vx[i-1]) \n",
    "    dvy = (vy[i+1] - vy[i-1])  \n",
    "    quiver(x[i], y[i], dvx, dvy, scale_units='xy',angles='xy',color='green',scale=2)  \n",
    "    deltavitesse = sqrt(((vx[i+1]-vx[i-1]))**2 +((vy[i+1]-vy[i-1]))**2) # Calcul de la variation de vitesse au point i\n",
    "    print(\"A la position\",i, \" la variation de la vitesse est de\",round(deltavitesse,3), \"m/s\")\n",
    "\n",
    "plot(x,y,'ro',ms=5.) \n",
    "axis('equal')\n",
    "grid(True) # Affichage de la grille\n",
    "rcParams['figure.figsize'] = [7,7]\n",
    "\n",
    "vecteur_vitesse(x, y, dt,3) #tracé du vecteur vitesse au point M3\n",
    "vecteur_vitesse(x, y, dt,5) #tracé du vecteur vitesse au point M5\n",
    "\n",
    "deltav(vx,vy,dt,4)"
   ]
  }
 ],
 "metadata": {
  "kernelspec": {
   "display_name": "Python 3",
   "language": "python",
   "name": "python3"
  },
  "language_info": {
   "codemirror_mode": {
    "name": "ipython",
    "version": 3
   },
   "file_extension": ".py",
   "mimetype": "text/x-python",
   "name": "python",
   "nbconvert_exporter": "python",
   "pygments_lexer": "ipython3",
   "version": "3.7.1"
  }
 },
 "nbformat": 4,
 "nbformat_minor": 2
}
